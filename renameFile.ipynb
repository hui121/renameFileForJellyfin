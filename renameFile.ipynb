{
 "cells": [
  {
   "cell_type": "code",
   "execution_count": 1,
   "id": "f96a492d-e106-4eb5-934b-6f7eb85679f9",
   "metadata": {},
   "outputs": [],
   "source": [
    "import os    \n",
    "def rename_files(directory, name, season_number = 1, episode_start = 1):  \n",
    "    # 确保输入的是目录  \n",
    "    if not os.path.isdir(directory):  \n",
    "        print(f\"Error: {directory} is not a directory.\")  \n",
    "        return  \n",
    "  \n",
    "    # 获取所有文件的列表，并排除子目录  \n",
    "    video_extensions = ['.mp4', '.avi', '.mov', '.mkv', '.flv', '.wmv', '.vob', '.3gp']      \n",
    "    files = [f for f in os.listdir(directory) if os.path.isfile(os.path.join(directory, f)) and 'original_filenames.txt' != f and any(f.lower().endswith(ext) for ext in video_extensions)]  \n",
    "  \n",
    "    # 检查是否有文件需要重命名  \n",
    "    if not files:  \n",
    "        print(\"No files to rename.\")  \n",
    "        return  \n",
    "    for filename in files:  \n",
    "        print(filename)\n",
    "    dorename = input('是否开始重命名，输入y开始，输入n取消')    \n",
    "    if dorename == 'y':\n",
    "        # 保存原始文件名到文件  \n",
    "        ori_file = os.path.join(directory, \"original_filenames.txt\")\n",
    "        if os.path.exists(ori_file):  \n",
    "            print( \"original_filenames.txt已存在，文件夹可能已经重命名，确认后再执行。\") \n",
    "            return\n",
    "        file = open(ori_file, \"w\")\n",
    "        # 按照sXXeYY的格式重命名文件  \n",
    "        for i, filename in enumerate(files, start=episode_start):  \n",
    "                # 计算集数，每季假设有100集（可根据实际情况调整）  \n",
    "                episode = i\n",
    "          \n",
    "                # 格式化新的文件名  \n",
    "                new_filename = f\"{name}.s{season_number:02d}e{episode:02d}{os.path.splitext(filename)[1]}\"  \n",
    "          \n",
    "                # 构建完整路径  \n",
    "                old_path = os.path.join(directory, filename)  \n",
    "                new_path = os.path.join(directory, new_filename)  \n",
    "          \n",
    "                # 重命名文件  \n",
    "                os.rename(old_path, new_path)  \n",
    "                print(f\"Renamed {filename} to {new_filename}\")  \n",
    "                # 保存修改操作\n",
    "                file.write(filename + ',' + new_filename+'\\n')\n",
    "        file.close()\n",
    "        print(\"Renaming complete.\")  "
   ]
  },
  {
   "cell_type": "code",
   "execution_count": 7,
   "id": "2cbcec08-c00c-46f8-8117-766e1fe51785",
   "metadata": {},
   "outputs": [
    {
     "name": "stdout",
     "output_type": "stream",
     "text": [
      "Westworld.S04E01.2022.1080p.Blu-ray.x265.10bit.AC3￡cXcY@FRDS.mkv\n",
      "Westworld.S04E02.2022.1080p.Blu-ray.x265.10bit.AC3￡cXcY@FRDS.mkv\n",
      "Westworld.S04E03.2022.1080p.Blu-ray.x265.10bit.AC3￡cXcY@FRDS.mkv\n",
      "Westworld.S04E04.2022.1080p.Blu-ray.x265.10bit.AC3￡cXcY@FRDS.mkv\n",
      "Westworld.S04E05.2022.1080p.Blu-ray.x265.10bit.AC3￡cXcY@FRDS.mkv\n",
      "Westworld.S04E06.2022.1080p.Blu-ray.x265.10bit.AC3￡cXcY@FRDS.mkv\n",
      "Westworld.S04E07.2022.1080p.Blu-ray.x265.10bit.AC3￡cXcY@FRDS.mkv\n",
      "Westworld.S04E08.2022.1080p.Blu-ray.x265.10bit.AC3￡cXcY@FRDS.mkv\n"
     ]
    },
    {
     "name": "stdin",
     "output_type": "stream",
     "text": [
      "是否开始重命名，输入y开始，输入n取消 y\n"
     ]
    },
    {
     "name": "stdout",
     "output_type": "stream",
     "text": [
      "Renamed Westworld.S04E01.2022.1080p.Blu-ray.x265.10bit.AC3￡cXcY@FRDS.mkv to 西部世界.s04e01.mkv\n",
      "Renamed Westworld.S04E02.2022.1080p.Blu-ray.x265.10bit.AC3￡cXcY@FRDS.mkv to 西部世界.s04e02.mkv\n",
      "Renamed Westworld.S04E03.2022.1080p.Blu-ray.x265.10bit.AC3￡cXcY@FRDS.mkv to 西部世界.s04e03.mkv\n",
      "Renamed Westworld.S04E04.2022.1080p.Blu-ray.x265.10bit.AC3￡cXcY@FRDS.mkv to 西部世界.s04e04.mkv\n",
      "Renamed Westworld.S04E05.2022.1080p.Blu-ray.x265.10bit.AC3￡cXcY@FRDS.mkv to 西部世界.s04e05.mkv\n",
      "Renamed Westworld.S04E06.2022.1080p.Blu-ray.x265.10bit.AC3￡cXcY@FRDS.mkv to 西部世界.s04e06.mkv\n",
      "Renamed Westworld.S04E07.2022.1080p.Blu-ray.x265.10bit.AC3￡cXcY@FRDS.mkv to 西部世界.s04e07.mkv\n",
      "Renamed Westworld.S04E08.2022.1080p.Blu-ray.x265.10bit.AC3￡cXcY@FRDS.mkv to 西部世界.s04e08.mkv\n",
      "Renaming complete.\n"
     ]
    }
   ],
   "source": [
    "target = r'Z:\\电视剧\\西部世界\\西部世界S04.Westworld.2022.1080p'\n",
    "moviename = r'西部世界'\n",
    "rename_files(target,moviename,season_number=4,episode_start = 1)"
   ]
  },
  {
   "cell_type": "code",
   "execution_count": 3,
   "id": "46e3ba98-19c0-4636-8a32-0f586967efc5",
   "metadata": {},
   "outputs": [],
   "source": [
    "import os  \n",
    "  \n",
    "def restore_filenames(directory):  \n",
    "    # 确保输入的是目录  \n",
    "    if not os.path.isdir(directory):  \n",
    "        print(f\"Error: {directory} is not a directory.\")  \n",
    "        return  \n",
    "  \n",
    "    # 读取原始文件名  \n",
    "    with open(os.path.join(directory, \"original_filenames.txt\"), \"r\") as file:  \n",
    "        filelists = [line.strip().split(',') for line in file.readlines()]\n",
    "  \n",
    "    # 检查是否有文件需要恢复  \n",
    "    if not filelists:  \n",
    "        print(\"No files to restore.\")  \n",
    "        return  \n",
    "\n",
    "    # 遍历原始文件名，并尝试恢复  \n",
    "    for filelist in filelists:       \n",
    "        original_filename = filelist[0]\n",
    "        current_filename  = filelist[1]\n",
    "        # 构建完整路径  \n",
    "        original_path = os.path.join(directory, original_filename)  \n",
    "        current_path  = os.path.join(directory, current_filename)              # 重命名文件  \n",
    "        os.rename(current_path, original_path)  \n",
    "    print('restore file name complete')"
   ]
  },
  {
   "cell_type": "code",
   "execution_count": 4,
   "id": "0b1d2cfa-441f-48ab-8f02-a183e8e6ea95",
   "metadata": {},
   "outputs": [
    {
     "name": "stdout",
     "output_type": "stream",
     "text": [
      "restore file name complete\n"
     ]
    }
   ],
   "source": [
    "target = r'X:\\电视剧\\琅琊榜\\s02'\n",
    "restore_filenames(target)"
   ]
  },
  {
   "cell_type": "code",
   "execution_count": 2,
   "id": "d04a9364-ba4b-4239-869a-3c7b26949694",
   "metadata": {},
   "outputs": [],
   "source": []
  },
  {
   "cell_type": "code",
   "execution_count": null,
   "id": "2f95a791-e4d1-4a78-9a4f-723d7a8b263f",
   "metadata": {},
   "outputs": [],
   "source": []
  }
 ],
 "metadata": {
  "kernelspec": {
   "display_name": "Python 3 (ipykernel)",
   "language": "python",
   "name": "python3"
  },
  "language_info": {
   "codemirror_mode": {
    "name": "ipython",
    "version": 3
   },
   "file_extension": ".py",
   "mimetype": "text/x-python",
   "name": "python",
   "nbconvert_exporter": "python",
   "pygments_lexer": "ipython3",
   "version": "3.10.14"
  }
 },
 "nbformat": 4,
 "nbformat_minor": 5
}
